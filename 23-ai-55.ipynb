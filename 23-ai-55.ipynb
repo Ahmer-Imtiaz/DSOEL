{
  "nbformat": 4,
  "nbformat_minor": 0,
  "metadata": {
    "colab": {
      "provenance": []
    },
    "kernelspec": {
      "name": "python3",
      "display_name": "Python 3"
    },
    "language_info": {
      "name": "python"
    }
  },
  "cells": [
    {
      "cell_type": "code",
      "execution_count": null,
      "metadata": {
        "colab": {
          "base_uri": "https://localhost:8080/"
        },
        "id": "T2gpbxvMlhfz",
        "outputId": "3dc32c1a-3197-430f-997d-dd78ebd5e1ff"
      },
      "outputs": [
        {
          "output_type": "stream",
          "name": "stdout",
          "text": [
            "Input:  abccba -> Longest_palindrome Length 6\n",
            "Input:  a -> Longest_palindrome Length 1\n"
          ]
        }
      ],
      "source": [
        "def longest_palindrome (s):\n",
        "# this function is made to check the maximum length of palindrome thats using a string s\n",
        "    char_count = {}\n",
        "# loop for increment of each charcater\n",
        "    for char in s:\n",
        "        if char in char_count:\n",
        "            char_count[char] += 1\n",
        "        else:\n",
        "            char_count[char] = 1\n",
        "# to keep record of palindrome length\n",
        "    length = 0\n",
        "# to check odds\n",
        "    odd_count_found = False\n",
        "    for count in char_count.values():\n",
        "# to check is it odd or even\n",
        "        length += count  // 2*2\n",
        "        if count % 2 == 1:\n",
        "            odd_count_found = True\n",
        "# to check if odd exists and adding 1 to length\n",
        "    if odd_count_found:\n",
        "        length += 1\n",
        "    return length\n",
        "\n",
        "\n",
        "# exmaple use\n",
        "\n",
        "if __name__ == \"__main__\":\n",
        "    example1 = \"abccba\"\n",
        "    example2 = \"a\"\n",
        "\n",
        "# for output\n",
        "print (\"Input: \", example1 , \"-> Longest_palindrome Length\", longest_palindrome(example1))\n",
        "print (\"Input: \", example2 , \"-> Longest_palindrome Length\", longest_palindrome(example2))"
      ]
    },
    {
      "cell_type": "code",
      "source": [],
      "metadata": {
        "id": "8535Xs50l2Pz"
      },
      "execution_count": null,
      "outputs": []
    },
    {
      "cell_type": "markdown",
      "source": [],
      "metadata": {
        "id": "YpQybq3sl2nZ"
      }
    }
  ]
}